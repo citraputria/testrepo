{
 "cells": [
  {
   "cell_type": "markdown",
   "id": "15504d9f-f16d-4ab4-9b8e-b082f067fd8d",
   "metadata": {
    "tags": []
   },
   "source": [
    "# Data Science Tools and Ecosystem"
   ]
  },
  {
   "cell_type": "markdown",
   "id": "8b9f2164-8ab7-49d8-bc1c-b9034c6a6b63",
   "metadata": {},
   "source": [
    "In this notebook, Data Science Tools and Ecosystem are summarized."
   ]
  },
  {
   "cell_type": "markdown",
   "id": "26a30a6b-a19c-4ffd-aa24-fc4e0106b384",
   "metadata": {},
   "source": [
    "**Objectives:**"
   ]
  },
  {
   "cell_type": "markdown",
   "id": "97ae513f-ac55-43f7-9a2b-14d4a37046c6",
   "metadata": {},
   "source": [
    "- List popular languages in Data Science\n",
    "- List commonly used libraries in Data Science\n",
    "- List Data Science Tools\n",
    "- Write a few examples of arithmetic expressions in Python"
   ]
  },
  {
   "cell_type": "markdown",
   "id": "0ed59c53-a81f-475b-9ef6-a8c7833c263e",
   "metadata": {},
   "source": [
    "Some of the popular languages that Data Scientists use are:"
   ]
  },
  {
   "cell_type": "markdown",
   "id": "c9f5d607-821b-4451-a1f7-5ce49626793b",
   "metadata": {},
   "source": [
    "1. Phyton\n",
    "2. R\n",
    "3. SQL"
   ]
  },
  {
   "cell_type": "markdown",
   "id": "02191064-85c8-4802-984a-d9040248b6b4",
   "metadata": {},
   "source": [
    "Some of the commonly used libraries used by Data Scientists include:"
   ]
  },
  {
   "cell_type": "markdown",
   "id": "47e76290-db4a-4346-9822-4ca2c5636aa3",
   "metadata": {},
   "source": [
    "1. Pandas\n",
    "2. Numpy\n",
    "3. Seaborn"
   ]
  },
  {
   "cell_type": "markdown",
   "id": "81eb9b13-7f17-4311-bfd7-fcb49518ebc8",
   "metadata": {},
   "source": [
    "## Author"
   ]
  },
  {
   "cell_type": "markdown",
   "id": "530ca6de-02ad-42fc-88b5-95b33f2f339c",
   "metadata": {},
   "source": [
    "Citra Putri Adiyanti"
   ]
  },
  {
   "cell_type": "markdown",
   "id": "1b58f69d-1ef1-411b-a46d-dd7169279336",
   "metadata": {},
   "source": [
    "# Data Science Tools"
   ]
  },
  {
   "cell_type": "markdown",
   "id": "d32eff81-d19a-4301-a228-15264a91fc72",
   "metadata": {},
   "source": [
    "1. Data Management: PortgreSQL, mySQL, MongoDB"
   ]
  },
  {
   "cell_type": "markdown",
   "id": "2feaa863-60f9-4436-a330-d4cc1851963f",
   "metadata": {},
   "source": [
    "2. Data Integration & Transformation: Apache Airflow, KubeFlow, Apache Kafka, Apache Nifi"
   ]
  },
  {
   "cell_type": "markdown",
   "id": "82de650d-e958-4fd0-9e59-175a918dfed7",
   "metadata": {},
   "source": [
    "3. Data Visualization: Pixiedust, Hue, Apache Superset"
   ]
  },
  {
   "cell_type": "markdown",
   "id": "b4a67b6e-cbfe-496c-93df-151a507725b9",
   "metadata": {},
   "source": [
    "### Below are a few examples of evaluating arithmetic expressions in Python"
   ]
  },
  {
   "cell_type": "markdown",
   "id": "c37571dc-1938-4c8a-9c5e-5b3b06d76c09",
   "metadata": {},
   "source": [
    "This a simple arithmetic expression to mutiply then add integers"
   ]
  },
  {
   "cell_type": "code",
   "execution_count": 11,
   "id": "1b96b83a-c858-4093-9cfd-6acefe9acdab",
   "metadata": {
    "tags": []
   },
   "outputs": [
    {
     "name": "stdout",
     "output_type": "stream",
     "text": [
      "17\n"
     ]
    }
   ],
   "source": [
    "print((3*4)+5)"
   ]
  },
  {
   "cell_type": "markdown",
   "id": "8e53e8fe-4a52-4d2c-9c2e-c2dc7b88d55e",
   "metadata": {},
   "source": [
    "This will convert 200 minutes to hours by diving by 60"
   ]
  },
  {
   "cell_type": "code",
   "execution_count": 14,
   "id": "287dcdcf-af48-4711-a98c-60489ae2c572",
   "metadata": {
    "tags": []
   },
   "outputs": [
    {
     "name": "stdout",
     "output_type": "stream",
     "text": [
      "3 hours and 20 minutes\n"
     ]
    }
   ],
   "source": [
    "total_minutes = 200\n",
    "hours = total_minutes // 60\n",
    "minutes = total_minutes % 60\n",
    "time_string = \"{} hours and {} minutes\".format(hours, minutes)\n",
    "\n",
    "print(time_string)"
   ]
  },
  {
   "cell_type": "code",
   "execution_count": null,
   "id": "995ad0f7-b77e-4b1b-adf8-e6120fa9f0dd",
   "metadata": {},
   "outputs": [],
   "source": []
  }
 ],
 "metadata": {
  "kernelspec": {
   "display_name": "Python",
   "language": "python",
   "name": "conda-env-python-py"
  },
  "language_info": {
   "codemirror_mode": {
    "name": "ipython",
    "version": 3
   },
   "file_extension": ".py",
   "mimetype": "text/x-python",
   "name": "python",
   "nbconvert_exporter": "python",
   "pygments_lexer": "ipython3",
   "version": "3.7.12"
  }
 },
 "nbformat": 4,
 "nbformat_minor": 5
}
